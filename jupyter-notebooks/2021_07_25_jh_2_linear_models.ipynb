{
 "cells": [
  {
   "cell_type": "code",
   "execution_count": 1,
   "source": [
    "# import installed modules\n",
    "# --------------------------------------------------------------\n",
    "import os\n",
    "import sys\n",
    "import pandas as pd\n",
    "import seaborn as sns\n",
    "import matplotlib.pyplot as plt\n",
    "sys.path.append(os.path.abspath(\"..\"))\n",
    "from sklearn.metrics import mean_squared_error\n",
    "from sklearn.linear_model import LinearRegression\n",
    "from sklearn.model_selection import train_test_split\n",
    "\n",
    "# import local modules from src\n",
    "# --------------------------------------------------------------\n",
    "from src.data.utils import *\n",
    "from src.data.load_data import Data\n",
    "from src.matplotconf import matsettings"
   ],
   "outputs": [],
   "metadata": {}
  },
  {
   "cell_type": "code",
   "execution_count": 7,
   "source": [
    "eq_cat = Data.load_file(\"raw\", \"catalogs\", \"UTeq.csv\")\n",
    "data = Data.load_file(\"processed\", \"combined-cleaned-magtable-1-\")"
   ],
   "outputs": [],
   "metadata": {}
  },
  {
   "cell_type": "code",
   "execution_count": 13,
   "source": [],
   "outputs": [],
   "metadata": {}
  },
  {
   "cell_type": "code",
   "execution_count": null,
   "source": [
    "pc_train = 0.7\n",
    "pc_test = 0.3\n",
    "\n",
    "## (1) Features\n",
    "X = comb[[\"llpsp\", \"repi\", \"dep\"]].values\n",
    "\n",
    "\n",
    "## (2) Response\n",
    "y = comb[\"Mw\"].values\n",
    "\n",
    "## (3) Train/test split\n",
    "X_train, X_test, y_train, y_test = train_test_split(X, y, test_size=pc_test, random_state=1)\n",
    "\n",
    "mag_regress = LinearRegression(fit_intercept=True)\n",
    "mag_regress.fit(X_train, y_train)\n",
    "\n",
    "y_hat_train = mag_regress.predict(X_train)\n",
    "y_hat_test = mag_regress.predict(X_test)"
   ],
   "outputs": [],
   "metadata": {}
  },
  {
   "cell_type": "code",
   "execution_count": null,
   "source": [
    "mag_regress.score(X_train, y_hat_train)\n",
    "mag_regress.score(X_test, y_hat_test)"
   ],
   "outputs": [],
   "metadata": {}
  },
  {
   "cell_type": "code",
   "execution_count": null,
   "source": [
    "fig, ax = plt.subplots(1, 1, figsize=(6, 5.5))\n",
    "ax.plot(y_test, y_hat_test, 'o', color='skyblue', mec='k')\n",
    "ax.plot([1.5, 5], [1.5, 5], color='k')\n",
    "ax.set_aspect('equal', 'box')\n",
    "ax.set(xlabel='test magnitudes', ylabel='mag predictions')"
   ],
   "outputs": [],
   "metadata": {}
  }
 ],
 "metadata": {
  "orig_nbformat": 4,
  "language_info": {
   "name": "python",
   "version": "3.8.10",
   "mimetype": "text/x-python",
   "codemirror_mode": {
    "name": "ipython",
    "version": 3
   },
   "pygments_lexer": "ipython3",
   "nbconvert_exporter": "python",
   "file_extension": ".py"
  },
  "kernelspec": {
   "name": "python3",
   "display_name": "Python 3.8.10 64-bit ('mlmags': conda)"
  },
  "interpreter": {
   "hash": "4a9148eb6536fedc2e49429a205a4695442572008729ddb93d267ea58d032e97"
  }
 },
 "nbformat": 4,
 "nbformat_minor": 2
}
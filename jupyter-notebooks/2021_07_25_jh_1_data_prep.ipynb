{
 "cells": [
  {
   "cell_type": "code",
   "execution_count": 1,
   "source": [
    "# import installed modules\n",
    "# --------------------------------------------------------------\n",
    "import os\n",
    "import sys\n",
    "import pandas as pd\n",
    "import seaborn as sns\n",
    "import matplotlib.pyplot as plt\n",
    "sys.path.append(os.path.abspath(\"..\"))\n",
    "# import local modules from src\n",
    "# --------------------------------------------------------------\n",
    "from src.data.utils import *\n",
    "from src.data.load_data import Data\n",
    "from src.matplotconf import matsettings"
   ],
   "outputs": [],
   "metadata": {}
  },
  {
   "cell_type": "markdown",
   "source": [
    "## 0. Data Exploration and Prep"
   ],
   "metadata": {}
  },
  {
   "cell_type": "code",
   "execution_count": null,
   "source": [
    "# load the raw data\n",
    "eq_cat = Data.load_file(\"raw\", \"catalogs\", \"UTeq.csv\")\n",
    "spec_pars_1 = Data.load_file(\"raw\", \"fitdata\", \"ModelFitDb-Sg-1-2km.csv\")\n",
    "spec_pars_2 = Data.load_file(\"raw\", \"fitdata\", \"ModelFitDb-Sg-2-2km.csv\")\n",
    "mags = Data.load_file(\"raw\", \"magnitudes\", \"HOLT19-MwDirect-Sg-2km.csv\")"
   ],
   "outputs": [],
   "metadata": {}
  },
  {
   "cell_type": "markdown",
   "source": [
    "### Get some informative outlier caps for the magnitude and observational data tables"
   ],
   "metadata": {}
  },
  {
   "cell_type": "code",
   "execution_count": null,
   "source": [
    "# some useful globals\n",
    "MIN_NSTA = 3\n",
    "MAX_STD_ERR = 0.25\n",
    "MIN_DEP = 3\n",
    "MAX_FC = spec_pars_1[\"fc\"][spec_pars_1[\"fc\"] < spec_pars_1[\"fc\"].max()/1E5].describe()[\"max\"]"
   ],
   "outputs": [],
   "metadata": {}
  },
  {
   "cell_type": "markdown",
   "source": [
    "### Clean the observations and magnitude data tables"
   ],
   "metadata": {}
  },
  {
   "cell_type": "code",
   "execution_count": null,
   "source": [
    "mag_table = clean_mag_table(mags.data, MIN_NSTA, MAX_STD_ERR) # target\n",
    "fit_table = clean_fit_table(spec_pars_1.data, MIN_DEP, MAX_FC)\n",
    "comb = pd.merge(fit_table, mag_table, on='otime')\n",
    "comb = comb[['station', 'dep', 'repi', 'llpsp', 'fc', 'Mw']]"
   ],
   "outputs": [],
   "metadata": {}
  },
  {
   "cell_type": "code",
   "execution_count": null,
   "source": [
    "sns.pairplot(comb.sample(1000), diag_kind='kde')"
   ],
   "outputs": [],
   "metadata": {}
  },
  {
   "cell_type": "code",
   "execution_count": null,
   "source": [],
   "outputs": [],
   "metadata": {}
  },
  {
   "cell_type": "code",
   "execution_count": null,
   "source": [],
   "outputs": [],
   "metadata": {}
  },
  {
   "cell_type": "code",
   "execution_count": null,
   "source": [],
   "outputs": [],
   "metadata": {}
  },
  {
   "cell_type": "code",
   "execution_count": null,
   "source": [],
   "outputs": [],
   "metadata": {}
  }
 ],
 "metadata": {
  "orig_nbformat": 4,
  "language_info": {
   "name": "python",
   "version": "3.8.10",
   "mimetype": "text/x-python",
   "codemirror_mode": {
    "name": "ipython",
    "version": 3
   },
   "pygments_lexer": "ipython3",
   "nbconvert_exporter": "python",
   "file_extension": ".py"
  },
  "kernelspec": {
   "name": "python3",
   "display_name": "Python 3.8.10 64-bit ('mlmags': conda)"
  },
  "interpreter": {
   "hash": "4a9148eb6536fedc2e49429a205a4695442572008729ddb93d267ea58d032e97"
  }
 },
 "nbformat": 4,
 "nbformat_minor": 2
}